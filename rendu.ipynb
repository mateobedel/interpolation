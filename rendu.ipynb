{
 "cells": [
  {
   "cell_type": "markdown",
   "metadata": {},
   "source": [
    "4.1 - Plus $ c $ diminue, plus la nome des tangeantes aux $ P_k $ diminue, plus la courbe se rapproche de celle des points de contrôle.\n",
    "\n",
    "\n",
    "\n",
    "\n",
    "\n",
    "\n",
    "\n",
    "\n",
    "\n",
    "\n"
   ]
  },
  {
   "cell_type": "markdown",
   "metadata": {},
   "source": [
    "**4.2** - Tant que $c < 1$ la courbe est $\\mathcal{C}^1$, cependant elle n'est pas $\\mathcal{C}^2$.\n",
    "Il n'y a pas d'ondulation non désiré et la courbe conserve la convexité.\n"
   ]
  },
  {
   "cell_type": "markdown",
   "metadata": {},
   "source": [
    "**5** - Le graphe de la courbure est disponible en appuyant sur le bouton ```MàJ graphe courbure```.\n",
    "\n",
    "**5.1** - Quand il y a de grandes variations dans la direction de la courbe, le graphe de courbure varie lui aussi fortement. La Courbure est donc un bon indicateur pour regarder à quelle point la courbe est lisse, et si elle présente de grosses variations.\n",
    "\n",
    "On observe aussi une petite variation au niveau des tangeantes $M_0$ et $M_N$ au bords."
   ]
  },
  {
   "cell_type": "markdown",
   "metadata": {},
   "source": [
    "**6** - Dessin du logo de python avec les spline Hermite cubiques :\n",
    "\n",
    "\n",
    "<img alt=\"python\" src=\"img/py.png\" width=500>"
   ]
  },
  {
   "cell_type": "markdown",
   "metadata": {},
   "source": [
    "**9** - On peut comparer les méthode d'interpolation avec le bouton ```Superposition``` :\n",
    "\n",
    "<img alt=\"superposition\" src=\"img/superposition.png\" width=350>\n",
    "\n",
    "- En **rouge** : Courbe de bezier\n",
    "- En **vert** : Polynome de Lagrange\n",
    "- En **orange** : Spline Hermite Cubiques\n",
    "\n",
    "La courbe de bezier a tendance à ne plus suivre les points de contrôle quand ils sont trop nombreux.\n",
    "\n",
    "Les polynomes de Lagrange varient énormement et atteignent facilement de très grande valeur quand le nombre de points est trop nombreux.\n",
    "\n",
    "Les Spline Hermite Cubique suivent bien les points de contrôles sans trop varier mais la courbe n'a pas l'air aussi lisse que les autre courbes.\n"
   ]
  }
 ],
 "metadata": {
  "language_info": {
   "name": "python"
  }
 },
 "nbformat": 4,
 "nbformat_minor": 2
}
